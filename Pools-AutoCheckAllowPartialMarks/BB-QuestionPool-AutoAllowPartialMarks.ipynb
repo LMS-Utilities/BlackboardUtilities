{
 "cells": [
  {
   "cell_type": "markdown",
   "metadata": {},
   "source": [
    "# Blackboard Question Pool Modifier\n",
    "\n",
    "This Jupyter Notebook sets all questions in a pool to allow partial marks"
   ]
  },
  {
   "cell_type": "code",
   "execution_count": null,
   "metadata": {},
   "outputs": [],
   "source": [
    "import os\n",
    "from selenium import webdriver\n",
    "from selenium.webdriver.common.by import By\n",
    "from selenium.webdriver.support.ui import WebDriverWait\n",
    "from selenium.webdriver.support import expected_conditions as EC\n",
    "from selenium.webdriver.common.keys import Keys"
   ]
  },
  {
   "cell_type": "code",
   "execution_count": null,
   "metadata": {},
   "outputs": [],
   "source": [
    "# Authenticate into Blackboard\n",
    "driver = webdriver.Chrome(executable_path=r'chromedriver.exe')\n",
    "driver.get(\"___YOUR_BLACKBOARD_URL____\")"
   ]
  },
  {
   "cell_type": "code",
   "execution_count": null,
   "metadata": {},
   "outputs": [],
   "source": [
    "# expand the table of questions to find out how many q's there are\n",
    "#driver.find_element_by_id(\"pool_listContainer_showAllButton\").click()\n",
    "driver.implicitly_wait(3)\n",
    "questionTable = driver.find_element_by_id(\"pool_listContainer_databody\")\n",
    "numRowsInTable = len(questionTable.text.split('\\n'))\n",
    "\n",
    "rowNum = 0\n",
    "print(f'numRowsInTable: {numRowsInTable}')\n",
    "\n",
    "for rowNum in range(numRowsInTable):\n",
    "    print(f'rowNum: {rowNum}')\n",
    "    \n",
    "    # expand the table of questions\n",
    "    #driver.find_element_by_id(\"pool_listContainer_showAllButton\").click()\n",
    "    \n",
    "    # find the row in the table\n",
    "    row = WebDriverWait(driver, 10).until(\n",
    "        EC.presence_of_element_located((By.ID, f'pool_listContainer_row:{rowNum}'))\n",
    "    )\n",
    "    #driver.find_element_by_id(f'pool_listContainer_row:{rowNum}')\n",
    "\n",
    "    # expand the context menu\n",
    "    row.find_element_by_xpath('th/span/a[1]').click()\n",
    "    \n",
    "    # find the context menu\n",
    "    contextMenu = WebDriverWait(driver, 3).until(\n",
    "        EC.presence_of_element_located((By.CLASS_NAME, \"cmdiv\"))\n",
    "    )\n",
    "    \n",
    "    # click the edit button in the context menu\n",
    "    contextMenu.find_element_by_link_text('Edit').click()\n",
    "\n",
    "    # tick the allow partial marks button\n",
    "    allowPartialmarksCheckbox = driver.find_element_by_id('partialCredit')\n",
    "    driver.execute_script(\"arguments[0].checked = true;\", allowPartialmarksCheckbox) \n",
    "        \n",
    "    # move to next page\n",
    "    driver.find_element_by_id('bottom_submitButtonRow').find_element_by_xpath('input[2]').click()\n",
    "    \n",
    "    # move to next page\n",
    "    driver.find_element_by_id('bottom_submitButtonRow').find_element_by_xpath('input[3]').click()\n",
    "    \n",
    "    # save\n",
    "    driver.find_element_by_id('bottom_submitButtonRow').find_element_by_xpath('input[4]').click()\n",
    "        \n",
    "    # repeat again for the next question in the pool\n",
    "    rowNum += 1"
   ]
  }
 ],
 "metadata": {
  "kernelspec": {
   "display_name": "Python 3",
   "language": "python",
   "name": "python3"
  },
  "language_info": {
   "codemirror_mode": {
    "name": "ipython",
    "version": 3
   },
   "file_extension": ".py",
   "mimetype": "text/x-python",
   "name": "python",
   "nbconvert_exporter": "python",
   "pygments_lexer": "ipython3",
   "version": "3.8.2"
  }
 },
 "nbformat": 4,
 "nbformat_minor": 4
}
